{
 "cells": [
  {
   "cell_type": "code",
   "execution_count": 1,
   "metadata": {
    "collapsed": false
   },
   "outputs": [],
   "source": [
    "# !mkdir /home/aistudio/external-libraries"
   ]
  },
  {
   "cell_type": "code",
   "execution_count": 2,
   "metadata": {
    "collapsed": false
   },
   "outputs": [],
   "source": [
    "# !conda install catboost -p /home/aistudio/external-libraries"
   ]
  },
  {
   "cell_type": "code",
   "execution_count": 3,
   "metadata": {
    "collapsed": false
   },
   "outputs": [
    {
     "name": "stdout",
     "output_type": "stream",
     "text": [
      "Looking in indexes: https://pypi.mirrors.ustc.edu.cn/simple/\n",
      "Requirement already satisfied: gensim in /opt/conda/envs/python35-paddle120-env/lib/python3.7/site-packages (3.8.3)\n",
      "Requirement already satisfied: lightgbm in /opt/conda/envs/python35-paddle120-env/lib/python3.7/site-packages (2.3.1)\n",
      "Requirement already satisfied: scipy>=0.18.1 in /opt/conda/envs/python35-paddle120-env/lib/python3.7/site-packages (from gensim) (1.3.0)\n",
      "Requirement already satisfied: numpy>=1.11.3 in /opt/conda/envs/python35-paddle120-env/lib/python3.7/site-packages (from gensim) (1.16.4)\n",
      "Requirement already satisfied: smart-open>=1.8.1 in /opt/conda/envs/python35-paddle120-env/lib/python3.7/site-packages (from gensim) (2.0.0)\n",
      "Requirement already satisfied: six>=1.5.0 in /opt/conda/envs/python35-paddle120-env/lib/python3.7/site-packages (from gensim) (1.15.0)\n",
      "Requirement already satisfied: scikit-learn in /opt/conda/envs/python35-paddle120-env/lib/python3.7/site-packages (from lightgbm) (0.20.0)\n",
      "Requirement already satisfied: requests in /opt/conda/envs/python35-paddle120-env/lib/python3.7/site-packages (from smart-open>=1.8.1->gensim) (2.22.0)\n",
      "Requirement already satisfied: boto3 in /opt/conda/envs/python35-paddle120-env/lib/python3.7/site-packages (from smart-open>=1.8.1->gensim) (1.13.21)\n",
      "Requirement already satisfied: boto in /opt/conda/envs/python35-paddle120-env/lib/python3.7/site-packages (from smart-open>=1.8.1->gensim) (2.49.0)\n",
      "Requirement already satisfied: chardet<3.1.0,>=3.0.2 in /opt/conda/envs/python35-paddle120-env/lib/python3.7/site-packages (from requests->smart-open>=1.8.1->gensim) (3.0.4)\n",
      "Requirement already satisfied: idna<2.9,>=2.5 in /opt/conda/envs/python35-paddle120-env/lib/python3.7/site-packages (from requests->smart-open>=1.8.1->gensim) (2.8)\n",
      "Requirement already satisfied: certifi>=2017.4.17 in /opt/conda/envs/python35-paddle120-env/lib/python3.7/site-packages (from requests->smart-open>=1.8.1->gensim) (2019.9.11)\n",
      "Requirement already satisfied: urllib3!=1.25.0,!=1.25.1,<1.26,>=1.21.1 in /opt/conda/envs/python35-paddle120-env/lib/python3.7/site-packages (from requests->smart-open>=1.8.1->gensim) (1.25.6)\n",
      "Requirement already satisfied: botocore<1.17.0,>=1.16.21 in /opt/conda/envs/python35-paddle120-env/lib/python3.7/site-packages (from boto3->smart-open>=1.8.1->gensim) (1.16.21)\n",
      "Requirement already satisfied: jmespath<1.0.0,>=0.7.1 in /opt/conda/envs/python35-paddle120-env/lib/python3.7/site-packages (from boto3->smart-open>=1.8.1->gensim) (0.10.0)\n",
      "Requirement already satisfied: s3transfer<0.4.0,>=0.3.0 in /opt/conda/envs/python35-paddle120-env/lib/python3.7/site-packages (from boto3->smart-open>=1.8.1->gensim) (0.3.3)\n",
      "Requirement already satisfied: python-dateutil<3.0.0,>=2.1 in /opt/conda/envs/python35-paddle120-env/lib/python3.7/site-packages (from botocore<1.17.0,>=1.16.21->boto3->smart-open>=1.8.1->gensim) (2.8.0)\n",
      "Requirement already satisfied: docutils<0.16,>=0.10 in /opt/conda/envs/python35-paddle120-env/lib/python3.7/site-packages (from botocore<1.17.0,>=1.16.21->boto3->smart-open>=1.8.1->gensim) (0.15.2)\n"
     ]
    }
   ],
   "source": [
    "!pip install gensim lightgbm"
   ]
  },
  {
   "cell_type": "code",
   "execution_count": 4,
   "metadata": {
    "collapsed": false
   },
   "outputs": [],
   "source": [
    "import pandas as pd\n",
    "import numpy as np\n",
    "import matplotlib.pyplot as plt\n",
    "import zipfile\n",
    "import gc\n",
    "%matplotlib inline"
   ]
  },
  {
   "cell_type": "code",
   "execution_count": 5,
   "metadata": {
    "collapsed": false
   },
   "outputs": [],
   "source": [
    "# zipfile.ZipFile('data/data36883/腾讯.zip').extractall('./work')"
   ]
  },
  {
   "cell_type": "code",
   "execution_count": 6,
   "metadata": {
    "collapsed": false
   },
   "outputs": [],
   "source": [
    "# zipfile.ZipFile('work/train_preliminary.zip').extractall('./work')\r\n",
    "# zipfile.ZipFile('work/test.zip').extractall('./work')"
   ]
  },
  {
   "cell_type": "markdown",
   "metadata": {
    "collapsed": false
   },
   "source": [
    "### Load data"
   ]
  },
  {
   "cell_type": "code",
   "execution_count": 7,
   "metadata": {
    "collapsed": false
   },
   "outputs": [],
   "source": [
    "train_path = \"work/train_preliminary/\"\r\n",
    "test_path = \"work/test/\""
   ]
  },
  {
   "cell_type": "code",
   "execution_count": 8,
   "metadata": {
    "collapsed": false
   },
   "outputs": [],
   "source": [
    "train_ad = pd.read_csv(train_path + \"ad.csv\")\r\n",
    "train_click_log = pd.read_csv(train_path + \"click_log.csv\")\r\n",
    "train_user = pd.read_csv(train_path + \"user.csv\")"
   ]
  },
  {
   "cell_type": "code",
   "execution_count": 9,
   "metadata": {
    "collapsed": false
   },
   "outputs": [],
   "source": [
    "test_ad = pd.read_csv(test_path + \"ad.csv\")\r\n",
    "test_click_log = pd.read_csv(test_path + \"click_log.csv\")"
   ]
  },
  {
   "cell_type": "code",
   "execution_count": 10,
   "metadata": {
    "collapsed": false
   },
   "outputs": [
    {
     "data": {
      "text/plain": [
       "((2481135, 6), (30082771, 4), (900000, 3), 900000)"
      ]
     },
     "execution_count": 10,
     "metadata": {},
     "output_type": "execute_result"
    }
   ],
   "source": [
    "# 训练数据数据的 ad click_log 和 用户人数\r\n",
    "train_ad.shape, train_click_log.shape, train_user.shape, len(train_click_log.user_id.unique())"
   ]
  },
  {
   "cell_type": "code",
   "execution_count": 11,
   "metadata": {
    "collapsed": false
   },
   "outputs": [
    {
     "data": {
      "text/plain": [
       "((2618159, 6), (33585512, 4), 1000000)"
      ]
     },
     "execution_count": 11,
     "metadata": {},
     "output_type": "execute_result"
    }
   ],
   "source": [
    "# 测试数据的 ad click_log 和 用户人数\r\n",
    "test_ad.shape, test_click_log.shape, len(test_click_log.user_id.unique())"
   ]
  },
  {
   "cell_type": "code",
   "execution_count": 12,
   "metadata": {
    "collapsed": false
   },
   "outputs": [
    {
     "data": {
      "text/html": [
       "<div>\n",
       "<style scoped>\n",
       "    .dataframe tbody tr th:only-of-type {\n",
       "        vertical-align: middle;\n",
       "    }\n",
       "\n",
       "    .dataframe tbody tr th {\n",
       "        vertical-align: top;\n",
       "    }\n",
       "\n",
       "    .dataframe thead th {\n",
       "        text-align: right;\n",
       "    }\n",
       "</style>\n",
       "<table border=\"1\" class=\"dataframe\">\n",
       "  <thead>\n",
       "    <tr style=\"text-align: right;\">\n",
       "      <th></th>\n",
       "      <th>creative_id</th>\n",
       "      <th>ad_id</th>\n",
       "      <th>product_id</th>\n",
       "      <th>product_category</th>\n",
       "      <th>advertiser_id</th>\n",
       "      <th>industry</th>\n",
       "    </tr>\n",
       "  </thead>\n",
       "  <tbody>\n",
       "    <tr>\n",
       "      <th>0</th>\n",
       "      <td>1</td>\n",
       "      <td>1</td>\n",
       "      <td>\\N</td>\n",
       "      <td>5</td>\n",
       "      <td>381</td>\n",
       "      <td>78</td>\n",
       "    </tr>\n",
       "    <tr>\n",
       "      <th>1</th>\n",
       "      <td>4</td>\n",
       "      <td>4</td>\n",
       "      <td>\\N</td>\n",
       "      <td>5</td>\n",
       "      <td>108</td>\n",
       "      <td>202</td>\n",
       "    </tr>\n",
       "  </tbody>\n",
       "</table>\n",
       "</div>"
      ],
      "text/plain": [
       "   creative_id  ad_id product_id  product_category  advertiser_id industry\n",
       "0            1      1         \\N                 5            381       78\n",
       "1            4      4         \\N                 5            108      202"
      ]
     },
     "execution_count": 12,
     "metadata": {},
     "output_type": "execute_result"
    }
   ],
   "source": [
    "train_ad.head(2)"
   ]
  },
  {
   "cell_type": "code",
   "execution_count": 13,
   "metadata": {
    "collapsed": false
   },
   "outputs": [
    {
     "data": {
      "text/html": [
       "<div>\n",
       "<style scoped>\n",
       "    .dataframe tbody tr th:only-of-type {\n",
       "        vertical-align: middle;\n",
       "    }\n",
       "\n",
       "    .dataframe tbody tr th {\n",
       "        vertical-align: top;\n",
       "    }\n",
       "\n",
       "    .dataframe thead th {\n",
       "        text-align: right;\n",
       "    }\n",
       "</style>\n",
       "<table border=\"1\" class=\"dataframe\">\n",
       "  <thead>\n",
       "    <tr style=\"text-align: right;\">\n",
       "      <th></th>\n",
       "      <th>time</th>\n",
       "      <th>user_id</th>\n",
       "      <th>creative_id</th>\n",
       "      <th>click_times</th>\n",
       "    </tr>\n",
       "  </thead>\n",
       "  <tbody>\n",
       "    <tr>\n",
       "      <th>30082769</th>\n",
       "      <td>86</td>\n",
       "      <td>30920</td>\n",
       "      <td>2713031</td>\n",
       "      <td>1</td>\n",
       "    </tr>\n",
       "    <tr>\n",
       "      <th>30082770</th>\n",
       "      <td>25</td>\n",
       "      <td>30920</td>\n",
       "      <td>629802</td>\n",
       "      <td>1</td>\n",
       "    </tr>\n",
       "  </tbody>\n",
       "</table>\n",
       "</div>"
      ],
      "text/plain": [
       "          time  user_id  creative_id  click_times\n",
       "30082769    86    30920      2713031            1\n",
       "30082770    25    30920       629802            1"
      ]
     },
     "execution_count": 13,
     "metadata": {},
     "output_type": "execute_result"
    }
   ],
   "source": [
    "train_click_log.tail(2)"
   ]
  },
  {
   "cell_type": "code",
   "execution_count": 14,
   "metadata": {
    "collapsed": false
   },
   "outputs": [
    {
     "data": {
      "text/html": [
       "<div>\n",
       "<style scoped>\n",
       "    .dataframe tbody tr th:only-of-type {\n",
       "        vertical-align: middle;\n",
       "    }\n",
       "\n",
       "    .dataframe tbody tr th {\n",
       "        vertical-align: top;\n",
       "    }\n",
       "\n",
       "    .dataframe thead th {\n",
       "        text-align: right;\n",
       "    }\n",
       "</style>\n",
       "<table border=\"1\" class=\"dataframe\">\n",
       "  <thead>\n",
       "    <tr style=\"text-align: right;\">\n",
       "      <th></th>\n",
       "      <th>user_id</th>\n",
       "      <th>age</th>\n",
       "      <th>gender</th>\n",
       "    </tr>\n",
       "  </thead>\n",
       "  <tbody>\n",
       "    <tr>\n",
       "      <th>0</th>\n",
       "      <td>1</td>\n",
       "      <td>4</td>\n",
       "      <td>1</td>\n",
       "    </tr>\n",
       "    <tr>\n",
       "      <th>1</th>\n",
       "      <td>2</td>\n",
       "      <td>10</td>\n",
       "      <td>1</td>\n",
       "    </tr>\n",
       "  </tbody>\n",
       "</table>\n",
       "</div>"
      ],
      "text/plain": [
       "   user_id  age  gender\n",
       "0        1    4       1\n",
       "1        2   10       1"
      ]
     },
     "execution_count": 14,
     "metadata": {},
     "output_type": "execute_result"
    }
   ],
   "source": [
    "train_user.head(2)"
   ]
  },
  {
   "cell_type": "code",
   "execution_count": 15,
   "metadata": {
    "collapsed": false
   },
   "outputs": [],
   "source": [
    "# # train_user 和 train_click_log 的 user_id 是一致的\r\n",
    "# set(train_user.user_id) == set(train_click_log.user_id)"
   ]
  },
  {
   "cell_type": "code",
   "execution_count": 16,
   "metadata": {
    "collapsed": false
   },
   "outputs": [],
   "source": [
    "# # train_ad 和 train_click_log 的 creative_id 是一致的\r\n",
    "# len(set(train_ad.creative_id)), len(set(train_click_log.creative_id))\r\n",
    "# set(train_ad.creative_id) == set(train_click_log.creative_id)"
   ]
  },
  {
   "cell_type": "code",
   "execution_count": 17,
   "metadata": {
    "collapsed": false
   },
   "outputs": [
    {
     "data": {
      "text/html": [
       "<div>\n",
       "<style scoped>\n",
       "    .dataframe tbody tr th:only-of-type {\n",
       "        vertical-align: middle;\n",
       "    }\n",
       "\n",
       "    .dataframe tbody tr th {\n",
       "        vertical-align: top;\n",
       "    }\n",
       "\n",
       "    .dataframe thead th {\n",
       "        text-align: right;\n",
       "    }\n",
       "</style>\n",
       "<table border=\"1\" class=\"dataframe\">\n",
       "  <thead>\n",
       "    <tr style=\"text-align: right;\">\n",
       "      <th></th>\n",
       "      <th>time</th>\n",
       "      <th>user_id</th>\n",
       "      <th>creative_id</th>\n",
       "      <th>click_times</th>\n",
       "    </tr>\n",
       "  </thead>\n",
       "  <tbody>\n",
       "    <tr>\n",
       "      <th>0</th>\n",
       "      <td>20</td>\n",
       "      <td>3131989</td>\n",
       "      <td>645764</td>\n",
       "      <td>1</td>\n",
       "    </tr>\n",
       "    <tr>\n",
       "      <th>1</th>\n",
       "      <td>20</td>\n",
       "      <td>3131989</td>\n",
       "      <td>1027422</td>\n",
       "      <td>1</td>\n",
       "    </tr>\n",
       "  </tbody>\n",
       "</table>\n",
       "</div>"
      ],
      "text/plain": [
       "   time  user_id  creative_id  click_times\n",
       "0    20  3131989       645764            1\n",
       "1    20  3131989      1027422            1"
      ]
     },
     "execution_count": 17,
     "metadata": {},
     "output_type": "execute_result"
    }
   ],
   "source": [
    "test_click_log.head(2)"
   ]
  },
  {
   "cell_type": "code",
   "execution_count": 18,
   "metadata": {
    "collapsed": false
   },
   "outputs": [],
   "source": [
    "df_train = train_ad.merge(train_click_log, on = \"creative_id\", how = \"left\")"
   ]
  },
  {
   "cell_type": "code",
   "execution_count": 19,
   "metadata": {
    "collapsed": false
   },
   "outputs": [],
   "source": [
    "df_test = test_ad.merge(test_click_log, on = \"creative_id\", how = \"left\")"
   ]
  },
  {
   "cell_type": "code",
   "execution_count": 20,
   "metadata": {
    "collapsed": false
   },
   "outputs": [
    {
     "data": {
      "text/html": [
       "<div>\n",
       "<style scoped>\n",
       "    .dataframe tbody tr th:only-of-type {\n",
       "        vertical-align: middle;\n",
       "    }\n",
       "\n",
       "    .dataframe tbody tr th {\n",
       "        vertical-align: top;\n",
       "    }\n",
       "\n",
       "    .dataframe thead th {\n",
       "        text-align: right;\n",
       "    }\n",
       "</style>\n",
       "<table border=\"1\" class=\"dataframe\">\n",
       "  <thead>\n",
       "    <tr style=\"text-align: right;\">\n",
       "      <th></th>\n",
       "      <th>creative_id</th>\n",
       "      <th>ad_id</th>\n",
       "      <th>product_id</th>\n",
       "      <th>product_category</th>\n",
       "      <th>advertiser_id</th>\n",
       "      <th>industry</th>\n",
       "      <th>time</th>\n",
       "      <th>user_id</th>\n",
       "      <th>click_times</th>\n",
       "    </tr>\n",
       "  </thead>\n",
       "  <tbody>\n",
       "    <tr>\n",
       "      <th>0</th>\n",
       "      <td>1</td>\n",
       "      <td>1</td>\n",
       "      <td>\\N</td>\n",
       "      <td>5</td>\n",
       "      <td>381</td>\n",
       "      <td>78</td>\n",
       "      <td>81</td>\n",
       "      <td>398695</td>\n",
       "      <td>1</td>\n",
       "    </tr>\n",
       "    <tr>\n",
       "      <th>1</th>\n",
       "      <td>1</td>\n",
       "      <td>1</td>\n",
       "      <td>\\N</td>\n",
       "      <td>5</td>\n",
       "      <td>381</td>\n",
       "      <td>78</td>\n",
       "      <td>82</td>\n",
       "      <td>404020</td>\n",
       "      <td>1</td>\n",
       "    </tr>\n",
       "  </tbody>\n",
       "</table>\n",
       "</div>"
      ],
      "text/plain": [
       "   creative_id  ad_id product_id  product_category  advertiser_id industry  \\\n",
       "0            1      1         \\N                 5            381       78   \n",
       "1            1      1         \\N                 5            381       78   \n",
       "\n",
       "   time  user_id  click_times  \n",
       "0    81   398695            1  \n",
       "1    82   404020            1  "
      ]
     },
     "execution_count": 20,
     "metadata": {},
     "output_type": "execute_result"
    }
   ],
   "source": [
    "df_train.head(2)"
   ]
  },
  {
   "cell_type": "code",
   "execution_count": 21,
   "metadata": {
    "collapsed": false
   },
   "outputs": [
    {
     "data": {
      "text/html": [
       "<div>\n",
       "<style scoped>\n",
       "    .dataframe tbody tr th:only-of-type {\n",
       "        vertical-align: middle;\n",
       "    }\n",
       "\n",
       "    .dataframe tbody tr th {\n",
       "        vertical-align: top;\n",
       "    }\n",
       "\n",
       "    .dataframe thead th {\n",
       "        text-align: right;\n",
       "    }\n",
       "</style>\n",
       "<table border=\"1\" class=\"dataframe\">\n",
       "  <thead>\n",
       "    <tr style=\"text-align: right;\">\n",
       "      <th></th>\n",
       "      <th>creative_id</th>\n",
       "      <th>ad_id</th>\n",
       "      <th>product_id</th>\n",
       "      <th>product_category</th>\n",
       "      <th>advertiser_id</th>\n",
       "      <th>industry</th>\n",
       "      <th>time</th>\n",
       "      <th>user_id</th>\n",
       "      <th>click_times</th>\n",
       "    </tr>\n",
       "  </thead>\n",
       "  <tbody>\n",
       "    <tr>\n",
       "      <th>0</th>\n",
       "      <td>1</td>\n",
       "      <td>1</td>\n",
       "      <td>\\N</td>\n",
       "      <td>5</td>\n",
       "      <td>381</td>\n",
       "      <td>78</td>\n",
       "      <td>81</td>\n",
       "      <td>3153317</td>\n",
       "      <td>1</td>\n",
       "    </tr>\n",
       "    <tr>\n",
       "      <th>1</th>\n",
       "      <td>1</td>\n",
       "      <td>1</td>\n",
       "      <td>\\N</td>\n",
       "      <td>5</td>\n",
       "      <td>381</td>\n",
       "      <td>78</td>\n",
       "      <td>81</td>\n",
       "      <td>3284714</td>\n",
       "      <td>1</td>\n",
       "    </tr>\n",
       "  </tbody>\n",
       "</table>\n",
       "</div>"
      ],
      "text/plain": [
       "   creative_id  ad_id product_id  product_category  advertiser_id industry  \\\n",
       "0            1      1         \\N                 5            381       78   \n",
       "1            1      1         \\N                 5            381       78   \n",
       "\n",
       "   time  user_id  click_times  \n",
       "0    81  3153317            1  \n",
       "1    81  3284714            1  "
      ]
     },
     "execution_count": 21,
     "metadata": {},
     "output_type": "execute_result"
    }
   ],
   "source": [
    "df_test.head(2)"
   ]
  },
  {
   "cell_type": "code",
   "execution_count": 22,
   "metadata": {
    "collapsed": false
   },
   "outputs": [],
   "source": [
    "df_data = pd.concat([df_train, df_test], ignore_index = True)"
   ]
  },
  {
   "cell_type": "markdown",
   "metadata": {
    "collapsed": false
   },
   "source": [
    "### EDA"
   ]
  },
  {
   "cell_type": "code",
   "execution_count": 23,
   "metadata": {
    "collapsed": false
   },
   "outputs": [],
   "source": [
    "# # 缺失值是 '\\\\N', 先替换成nan.\r\n",
    "# df_data = df_data.replace('\\\\N', np.nan)"
   ]
  },
  {
   "cell_type": "code",
   "execution_count": 24,
   "metadata": {
    "collapsed": false
   },
   "outputs": [],
   "source": [
    "# 缺失值\r\n",
    "# (df_data.isnull().sum()).plot.bar(title='Data null')"
   ]
  },
  {
   "cell_type": "code",
   "execution_count": 25,
   "metadata": {
    "collapsed": false
   },
   "outputs": [],
   "source": [
    "# plt.rcParams['font.sans-serif']=['SimHei']\r\n",
    "# train_user['age'].value_counts().plot.pie(autopct='%1.1f%%',title = '年龄分布比例')"
   ]
  },
  {
   "cell_type": "code",
   "execution_count": 26,
   "metadata": {
    "collapsed": false
   },
   "outputs": [],
   "source": [
    "# # 性别比例大约是2:1\r\n",
    "# train_user['gender'].value_counts().plot.bar(title = '性别分布比例')"
   ]
  },
  {
   "cell_type": "code",
   "execution_count": 27,
   "metadata": {
    "collapsed": false
   },
   "outputs": [],
   "source": [
    "# df_data[[\"creative_id\", \"ad_id\", \"user_id\"]].boxplot()"
   ]
  },
  {
   "cell_type": "code",
   "execution_count": 28,
   "metadata": {
    "collapsed": false
   },
   "outputs": [],
   "source": [
    "# df_data[[\"advertiser_id\", \"product_category\", \"time\", \"click_times\"]].boxplot()"
   ]
  },
  {
   "cell_type": "markdown",
   "metadata": {
    "collapsed": false
   },
   "source": [
    "### 提取特征"
   ]
  },
  {
   "cell_type": "code",
   "execution_count": 29,
   "metadata": {
    "collapsed": false
   },
   "outputs": [],
   "source": [
    "# # 缺失值用-1补充\r\n",
    "# df_data = df_data.fillna(-1)"
   ]
  },
  {
   "cell_type": "code",
   "execution_count": 30,
   "metadata": {
    "collapsed": false
   },
   "outputs": [],
   "source": [
    "# for col in df_data.columns:\r\n",
    "#     print(col, \":\", type(df_data[col][0]))"
   ]
  },
  {
   "cell_type": "code",
   "execution_count": 31,
   "metadata": {
    "collapsed": false
   },
   "outputs": [],
   "source": [
    "from sklearn.preprocessing import LabelEncoder\r\n",
    "from sklearn.decomposition import TruncatedSVD\r\n",
    "from sklearn.feature_extraction.text import TfidfVectorizer, CountVectorizer\r\n",
    "from gensim.models import Word2Vec\r\n",
    "# for col in [\"creative_id\", \"ad_id\", \"product_category\", \"advertiser_id\", \"time\", \"click_times\"]:\r\n",
    "#     le = LabelEncoder()\r\n",
    "#     df_data[col] = le.fit_transform(df_data[col])"
   ]
  },
  {
   "cell_type": "code",
   "execution_count": 32,
   "metadata": {
    "collapsed": false
   },
   "outputs": [],
   "source": [
    "Feats = df_data.drop_duplicates(subset = \"user_id\")[[\"user_id\"]]"
   ]
  },
  {
   "cell_type": "code",
   "execution_count": 33,
   "metadata": {
    "collapsed": false
   },
   "outputs": [
    {
     "data": {
      "text/plain": [
       "20"
      ]
     },
     "execution_count": 33,
     "metadata": {},
     "output_type": "execute_result"
    }
   ],
   "source": [
    "del df_data\r\n",
    "gc.collect()"
   ]
  },
  {
   "cell_type": "code",
   "execution_count": 34,
   "metadata": {
    "collapsed": false
   },
   "outputs": [],
   "source": [
    "#构造统计特征\r\n",
    "def group_feature(df, key, target, aggs):   \r\n",
    "    agg_dict = {}\r\n",
    "    for ag in aggs:\r\n",
    "        agg_dict[f'{target}_{ag}'] = ag\r\n",
    "    print(agg_dict)\r\n",
    "    df[target] = df[target].astype(float)\r\n",
    "    t = df.groupby(key)[target].agg(agg_dict).reset_index()\r\n",
    "    return t"
   ]
  },
  {
   "cell_type": "code",
   "execution_count": 35,
   "metadata": {
    "collapsed": false
   },
   "outputs": [],
   "source": [
    "# for col in [\"creative_id\", \"ad_id\", \"product_category\", \"advertiser_id\", \"time\", \"click_times\"]:\r\n",
    "#     t = group_feature(df_data, \"user_id\", col, ['max','min','mean','sum','std', 'nunique', 'count'])\r\n",
    "#     Feats = Feats.merge(t, on = \"user_id\", how = \"left\")"
   ]
  },
  {
   "cell_type": "code",
   "execution_count": 36,
   "metadata": {
    "collapsed": false
   },
   "outputs": [],
   "source": [
    "def get_count_tfidf(df, group_id, group_target, num):\r\n",
    "    df[group_target] = df[group_target].astype(str)\r\n",
    "    tmp = df.groupby(group_id)[group_target].agg(list).reset_index()\r\n",
    "    tmp[group_target] = tmp[group_target].apply(lambda x: ' '.join(x))\r\n",
    "\r\n",
    "    tfidf_enc_tmp = TfidfVectorizer(max_features = 100000, min_df = 3)\r\n",
    "    tfidf_vec_tmp = tfidf_enc_tmp.fit_transform(tmp[group_target])\r\n",
    "    svd_tag_tmp = TruncatedSVD(n_components=num, n_iter=5, random_state=52)\r\n",
    "    tag_svd_tmp = svd_tag_tmp.fit_transform(tfidf_vec_tmp)\r\n",
    "    tag_svd_tmp = pd.DataFrame(tag_svd_tmp)\r\n",
    "    tag_svd_tmp.columns = ['{}_tfidf_{}'.format(group_target, i)\r\n",
    "                           for i in range(num)]\r\n",
    "\r\n",
    "    countvec = CountVectorizer(max_features = 100000, min_df = 3)\r\n",
    "    count_vec_tmp = countvec.fit_transform(tmp[group_target])\r\n",
    "    svd_tmp = TruncatedSVD(n_components=num, n_iter=5, random_state=52)\r\n",
    "    svd_tmp = svd_tmp.fit_transform(count_vec_tmp)\r\n",
    "    svd_tmp = pd.DataFrame(svd_tmp)\r\n",
    "    svd_tmp.columns = ['{}_countvec_{}'.format(group_target, i)\r\n",
    "                       for i in range(num)]\r\n",
    "\r\n",
    "    return pd.concat([tmp[[group_id]], tag_svd_tmp, svd_tmp], axis=1)"
   ]
  },
  {
   "cell_type": "code",
   "execution_count": 37,
   "metadata": {
    "collapsed": false
   },
   "outputs": [],
   "source": [
    "# # for col in [\"creative_id\", \"ad_id\", \"advertiser_id\"]:\r\n",
    "# for col in [\"advertiser_id\"]:\r\n",
    "#     t = get_count_tfidf(df_data, \"user_id\", col, 30)\r\n",
    "#     Feats = Feats.merge(t, on = \"user_id\", how = \"left\")"
   ]
  },
  {
   "cell_type": "code",
   "execution_count": 38,
   "metadata": {
    "collapsed": false
   },
   "outputs": [],
   "source": [
    "def hashfxn(astring):\r\n",
    "    return ord(astring[0])\r\n",
    "def w2v_feat(df, group_id, feat, length):\r\n",
    "    df[feat] = df[feat].astype(str)\r\n",
    "    data_frame = df.groupby(group_id)[feat].agg(list).reset_index()\r\n",
    "    model = Word2Vec(data_frame[feat].values,\r\n",
    "                     size=length,\r\n",
    "                     window=5,\r\n",
    "                     min_count=1,\r\n",
    "                     workers=8,\r\n",
    "                     iter=5,\r\n",
    "                     seed=1,\r\n",
    "                     hashfxn=hashfxn)\r\n",
    "    data_frame[feat] = data_frame[feat].apply(\r\n",
    "        lambda x: np.array([model.wv[c] for c in x])\r\n",
    "    )\r\n",
    "    \r\n",
    "    for m in range(length):\r\n",
    "        data_frame['w2v_{}_mean'.format(m)] = data_frame[feat].apply(\r\n",
    "            lambda x: x[:, m].mean()\r\n",
    "        )\r\n",
    "    del data_frame[feat]\r\n",
    "    gc.collect()\r\n",
    "    return data_frame"
   ]
  },
  {
   "cell_type": "code",
   "execution_count": 39,
   "metadata": {
    "collapsed": false
   },
   "outputs": [],
   "source": [
    "# for col in [\"creative_id\", \"ad_id\", \"advertiser_id\"]:\r\n",
    "# for col in [\"advertiser_id\"]:\r\n",
    "#     t = w2v_feat(df_data, \"user_id\", col, 50)\r\n",
    "#     Feats = Feats.merge(t, on = \"user_id\", how = \"left\")"
   ]
  },
  {
   "cell_type": "code",
   "execution_count": null,
   "metadata": {
    "collapsed": false
   },
   "outputs": [],
   "source": [
    "feat_files = ['creative_id_w2v_feats.csv', 'ad_id_w2v_feats.csv', 'advertiser_id_w2v_feats.csv',\r\n",
    "    'ad_id_tfidf_feats.csv', 'advertiser_id_tfidf_feats.csv', 'creative_id_tfidf_feats.csv', 'group_feats.csv']"
   ]
  },
  {
   "cell_type": "code",
   "execution_count": null,
   "metadata": {
    "collapsed": false
   },
   "outputs": [],
   "source": [
    "for df_file in feat_files:\r\n",
    "    t = pd.read_csv(df_file)\r\n",
    "    Feats = Feats.merge(t, on = \"user_id\", how = \"left\")\r\n",
    "    del t\r\n",
    "    gc.collect()"
   ]
  },
  {
   "cell_type": "code",
   "execution_count": null,
   "metadata": {
    "collapsed": false
   },
   "outputs": [],
   "source": [
    "Feats = Feats.set_index('user_id')"
   ]
  },
  {
   "cell_type": "code",
   "execution_count": null,
   "metadata": {
    "collapsed": false
   },
   "outputs": [],
   "source": [
    "# Feats.to_csv(\"./group_feats.csv\")"
   ]
  },
  {
   "cell_type": "code",
   "execution_count": null,
   "metadata": {
    "collapsed": false
   },
   "outputs": [],
   "source": [
    "X_train = Feats.iloc[train_user.user_id].sort_index()"
   ]
  },
  {
   "cell_type": "code",
   "execution_count": null,
   "metadata": {
    "collapsed": false
   },
   "outputs": [],
   "source": [
    "X_test = Feats.drop(train_user.user_id, axis = 0).sort_index()"
   ]
  },
  {
   "cell_type": "code",
   "execution_count": null,
   "metadata": {
    "collapsed": false
   },
   "outputs": [],
   "source": [
    "y_age = train_user[['age','user_id']].set_index(\"user_id\")\r\n",
    "y_gender = train_user[['gender','user_id']].set_index(\"user_id\")"
   ]
  },
  {
   "cell_type": "code",
   "execution_count": null,
   "metadata": {
    "collapsed": false
   },
   "outputs": [],
   "source": [
    "age_map = {i: i-1 for i in range(1,11)}\r\n",
    "age_map_rev = {v:k for k,v in age_map.items()}\r\n",
    "gender_map = {1: 1, 2: 0}\r\n",
    "gender_map_rev = {v:k for k,v in gender_map.items()}"
   ]
  },
  {
   "cell_type": "code",
   "execution_count": null,
   "metadata": {
    "collapsed": false
   },
   "outputs": [],
   "source": [
    "y_age.age = y_age.age.map(age_map)\r\n",
    "y_gender.gender = y_gender.gender.map(gender_map)"
   ]
  },
  {
   "cell_type": "code",
   "execution_count": null,
   "metadata": {
    "collapsed": false
   },
   "outputs": [
    {
     "data": {
      "text/plain": [
       "((900000, 372), (1000000, 372), (900000, 1), (900000, 1))"
      ]
     },
     "execution_count": null,
     "metadata": {},
     "output_type": "execute_result"
    }
   ],
   "source": [
    "X_train.shape, X_test.shape, y_age.shape, y_gender.shape"
   ]
  },
  {
   "cell_type": "markdown",
   "metadata": {
    "collapsed": false
   },
   "source": [
    "### Model"
   ]
  },
  {
   "cell_type": "code",
   "execution_count": null,
   "metadata": {
    "collapsed": false
   },
   "outputs": [],
   "source": [
    "import lightgbm as lgb\r\n",
    "import numpy as np\r\n",
    "from sklearn.model_selection import StratifiedKFold\r\n",
    "from sklearn import metrics"
   ]
  },
  {
   "cell_type": "code",
   "execution_count": null,
   "metadata": {
    "collapsed": false
   },
   "outputs": [],
   "source": [
    "lgb_params_age = {\r\n",
    "    'learning_rate' : 0.1,\r\n",
    "    # 'min_child_samples': 5,\r\n",
    "    'max_depth': 7,\r\n",
    "    'lambda_l1': 2,\r\n",
    "    # 'feature_fraction': .75,\r\n",
    "    # 'bagging_fraction': .85,\r\n",
    "    # 'seed': 99,\r\n",
    "    'n_estimators': 3000,\r\n",
    "    'boosting_type': 'gbdt',\r\n",
    "    'objective': 'multiclass',\r\n",
    "    'num_class': 10,\r\n",
    "    'early_stopping_rounds': 100,\r\n",
    "}\r\n",
    "fold = StratifiedKFold(n_splits=3, shuffle=True, random_state=42)\r\n",
    "models_age = []\r\n",
    "pred_age = np.zeros((X_test.shape[0], 10))\r\n",
    "oof_age = np.zeros((X_train.shape[0], 10))"
   ]
  },
  {
   "cell_type": "code",
   "execution_count": null,
   "metadata": {
    "collapsed": false
   },
   "outputs": [
    {
     "name": "stderr",
     "output_type": "stream",
     "text": [
      "/opt/conda/envs/python35-paddle120-env/lib/python3.7/site-packages/lightgbm/engine.py:148: UserWarning: Found `n_estimators` in params. Will use it instead of argument\n",
      "  warnings.warn(\"Found `{}` in params. Will use it instead of argument\".format(alias))\n",
      "/opt/conda/envs/python35-paddle120-env/lib/python3.7/site-packages/lightgbm/engine.py:153: UserWarning: Found `early_stopping_rounds` in params. Will use it instead of argument\n",
      "  warnings.warn(\"Found `{}` in params. Will use it instead of argument\".format(alias))\n"
     ]
    },
    {
     "name": "stdout",
     "output_type": "stream",
     "text": [
      "Training until validation scores don't improve for 100 rounds\n"
     ]
    }
   ],
   "source": [
    "for index, (train_idx, val_idx) in enumerate(fold.split(X_train, y_age)):\r\n",
    "\r\n",
    "    train_set = lgb.Dataset(X_train.iloc[train_idx], y_age.iloc[train_idx])\r\n",
    "    val_set = lgb.Dataset(X_train.iloc[val_idx], y_age.iloc[val_idx])\r\n",
    "\r\n",
    "    model = lgb.train(lgb_params_age, train_set, valid_sets=[train_set, val_set],verbose_eval=100)\r\n",
    "    models_age.append(model)\r\n",
    "\r\n",
    "    val_pred = model.predict(X_train.iloc[val_idx])\r\n",
    "    oof_age[val_idx] = val_pred\r\n",
    "    val_y = y_age.age.values[val_idx]\r\n",
    "    val_pred = np.argmax(val_pred, axis = 1)\r\n",
    "\r\n",
    "    print(index+1, 'val acc:', metrics.accuracy_score(val_y, val_pred))\r\n",
    "    test_pred = model.predict(X_test)\r\n",
    "    pred_age += test_pred/fold.n_splits\r\n",
    "    del train_set, val_set, val_pred, val_y, test_pred\r\n",
    "    gc.collect()"
   ]
  },
  {
   "cell_type": "code",
   "execution_count": null,
   "metadata": {
    "collapsed": false
   },
   "outputs": [],
   "source": [
    "lgb_params_gender = {\r\n",
    "    'n_estimators': 3000,\r\n",
    "    'boosting_type': 'gbdt',\r\n",
    "    'objective': 'binary',\r\n",
    "    # 'metric': 'None',\r\n",
    "    # 'num_leaves': 63,\r\n",
    "    # 'subsample': 0.8,\r\n",
    "    # 'colsample_bytree': 0.8,\r\n",
    "    'learning_rate': 0.05,\r\n",
    "    'lambda_l2':2,\r\n",
    "    'nthread': -1,\r\n",
    "    # 'silent': True,\r\n",
    "    'early_stopping_rounds': 100,\r\n",
    "}\r\n",
    "models_gender = []\r\n",
    "oof_gender = np.zeros(X_train.shape[0])\r\n",
    "pred_gender = np.zeros(X_test.shape[0])"
   ]
  },
  {
   "cell_type": "code",
   "execution_count": null,
   "metadata": {
    "collapsed": false
   },
   "outputs": [],
   "source": [
    "for index, (train_idx, val_idx) in enumerate(fold.split(X_train, y_gender)):\r\n",
    "\r\n",
    "    train_set = lgb.Dataset(X_train.iloc[train_idx], y_gender.iloc[train_idx])\r\n",
    "    val_set = lgb.Dataset(X_train.iloc[val_idx], y_gender.iloc[val_idx])\r\n",
    "\r\n",
    "    model = lgb.train(lgb_params_gender, train_set, valid_sets=[train_set, val_set], verbose_eval=100)\r\n",
    "    models_gender.append(model)\r\n",
    "    val_pred = model.predict(X_train.iloc[val_idx])\r\n",
    "    oof_gender[val_idx] = val_pred\r\n",
    "    val_y = y_gender.values.reshape((-1))[val_idx]\r\n",
    "    val_pred = np.round(val_pred)\r\n",
    "    \r\n",
    "    print(index+1, 'val acc:', metrics.accuracy_score(val_y, val_pred))\r\n",
    "    test_pred = model.predict(X_test)\r\n",
    "    pred_gender += test_pred/fold.n_splits\r\n",
    "    del train_set, val_set, val_pred, val_y, test_pred\r\n",
    "    gc.collect()\r\n",
    "# 372feats : 42 stat, 150 w2v, 180 tf_idf\r\n",
    "# 线下 0.717\r\n",
    "# 线上 0.876774"
   ]
  },
  {
   "cell_type": "code",
   "execution_count": null,
   "metadata": {
    "collapsed": false
   },
   "outputs": [],
   "source": [
    "np.unique(np.argmax(pred_age, axis=1))"
   ]
  },
  {
   "cell_type": "code",
   "execution_count": null,
   "metadata": {
    "collapsed": false
   },
   "outputs": [],
   "source": [
    "np.unique(np.round(pred_gender))"
   ]
  },
  {
   "cell_type": "markdown",
   "metadata": {
    "collapsed": false
   },
   "source": [
    "### Feature importance"
   ]
  },
  {
   "cell_type": "code",
   "execution_count": null,
   "metadata": {
    "collapsed": false
   },
   "outputs": [],
   "source": [
    "ret = []\r\n",
    "for index, model in enumerate(models_age):\r\n",
    "    df = pd.DataFrame()\r\n",
    "    df['name'] = model.feature_name()\r\n",
    "    df['score'] = model.feature_importance()\r\n",
    "    df['fold'] = index\r\n",
    "    ret.append(df)\r\n",
    "    \r\n",
    "df = pd.concat(ret)\r\n",
    "\r\n",
    "df = df.groupby('name', as_index=False)['score'].mean()\r\n",
    "df.sort_values(['score'], ascending=False)"
   ]
  },
  {
   "cell_type": "code",
   "execution_count": null,
   "metadata": {
    "collapsed": false
   },
   "outputs": [],
   "source": [
    "ret = []\r\n",
    "for index, model in enumerate(models_gender):\r\n",
    "    df = pd.DataFrame()\r\n",
    "    df['name'] = model.feature_name()\r\n",
    "    df['score'] = model.feature_importance()\r\n",
    "    df['fold'] = index\r\n",
    "    ret.append(df)\r\n",
    "    \r\n",
    "df = pd.concat(ret)\r\n",
    "\r\n",
    "df = df.groupby('name', as_index=False)['score'].mean()\r\n",
    "df.sort_values(['score'], ascending=False)"
   ]
  },
  {
   "cell_type": "markdown",
   "metadata": {
    "collapsed": false
   },
   "source": [
    "### Submission"
   ]
  },
  {
   "cell_type": "code",
   "execution_count": null,
   "metadata": {
    "collapsed": false
   },
   "outputs": [],
   "source": [
    "sub = pd.DataFrame()"
   ]
  },
  {
   "cell_type": "code",
   "execution_count": null,
   "metadata": {
    "collapsed": false
   },
   "outputs": [],
   "source": [
    "sub['user_id'] = X_test.index\r\n",
    "sub['predicted_age'] = np.argmax(pred_age, axis = 1)\r\n",
    "# sub['predicted_age'] = -1\r\n",
    "sub['predicted_gender'] = np.round(pred_gender).astype(int)"
   ]
  },
  {
   "cell_type": "code",
   "execution_count": null,
   "metadata": {
    "collapsed": false
   },
   "outputs": [],
   "source": [
    "sub[\"predicted_gender\"] = sub[\"predicted_gender\"].map(gender_map_rev)\r\n",
    "sub[\"predicted_age\"] = sub[\"predicted_age\"].map(age_map_rev)"
   ]
  },
  {
   "cell_type": "code",
   "execution_count": null,
   "metadata": {
    "collapsed": false
   },
   "outputs": [],
   "source": [
    "sub[\"predicted_gender\"].value_counts()"
   ]
  },
  {
   "cell_type": "code",
   "execution_count": null,
   "metadata": {
    "collapsed": false
   },
   "outputs": [],
   "source": [
    "sub[\"predicted_age\"].value_counts()"
   ]
  },
  {
   "cell_type": "code",
   "execution_count": null,
   "metadata": {
    "collapsed": false
   },
   "outputs": [],
   "source": [
    "sub.to_csv(\"./submission.csv\", header = True, index = False, encoding='utf-8')"
   ]
  },
  {
   "cell_type": "code",
   "execution_count": 66,
   "metadata": {
    "collapsed": false
   },
   "outputs": [
    {
     "name": "stdout",
     "output_type": "stream",
     "text": [
      "316779"
     ]
    },
    {
     "name": "stderr",
     "output_type": "stream",
     "text": [
      "IOPub data rate exceeded.\n",
      "The notebook server will temporarily stop sending output\n",
      "to the client in order to avoid crashing it.\n",
      "To change this limit, set the config variable\n",
      "`--NotebookApp.iopub_data_rate_limit`.\n",
      "\n",
      "Current values:\n",
      "NotebookApp.iopub_data_rate_limit=1000000.0 (bytes/sec)\n",
      "NotebookApp.rate_limit_window=3.0 (secs)\n",
      "\n"
     ]
    }
   ],
   "source": [
    "!cat submission.csv"
   ]
  },
  {
   "cell_type": "code",
   "execution_count": null,
   "metadata": {
    "collapsed": false
   },
   "outputs": [],
   "source": []
  }
 ],
 "metadata": {
  "kernelspec": {
   "display_name": "PaddlePaddle 1.8.0 (Python 3.5)",
   "language": "python",
   "name": "py35-paddle1.2.0"
  },
  "language_info": {
   "codemirror_mode": {
    "name": "ipython",
    "version": 3
   },
   "file_extension": ".py",
   "mimetype": "text/x-python",
   "name": "python",
   "nbconvert_exporter": "python",
   "pygments_lexer": "ipython3",
   "version": "3.7.4"
  }
 },
 "nbformat": 4,
 "nbformat_minor": 1
}
